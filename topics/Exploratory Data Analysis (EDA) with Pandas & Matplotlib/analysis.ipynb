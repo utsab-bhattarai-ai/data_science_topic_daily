{
 "cells": [
  {
   "cell_type": "markdown",
   "id": "fd9b1f4a",
   "metadata": {},
   "source": [
    "### ✅ What to Learn/Do Today"
   ]
  },
  {
   "cell_type": "markdown",
   "id": "d12059c6",
   "metadata": {},
   "source": [
    "1. **Dataset Handling**"
   ]
  },
  {
   "cell_type": "markdown",
   "id": "d7828021",
   "metadata": {},
   "source": [
    "   * Load a CSV with `pandas.read_csv()`\n",
    "   * Inspect shape (`df.shape`), data types (`df.dtypes`), missing values (`df.isna().sum()`)"
   ]
  },
  {
   "cell_type": "markdown",
   "id": "d6ccd165",
   "metadata": {},
   "source": [
    "2. **Descriptive Statistics**"
   ]
  },
  {
   "cell_type": "markdown",
   "id": "360a2cf7",
   "metadata": {},
   "source": [
    "   * `df.describe()`\n",
    "   * Value counts for categorical variables (`df[\"col\"].value_counts()`)"
   ]
  },
  {
   "cell_type": "markdown",
   "id": "3bab8f07",
   "metadata": {},
   "source": [
    "3. **Data Cleaning**"
   ]
  },
  {
   "cell_type": "markdown",
   "id": "5500c5c3",
   "metadata": {},
   "source": [
    "   * Handle missing values (`dropna`, `fillna`)\n",
    "   * Handle duplicates (`df.duplicated().sum()` → `df.drop_duplicates()`)"
   ]
  },
  {
   "cell_type": "markdown",
   "id": "ec16bad1",
   "metadata": {},
   "source": [
    "4. **Data Visualization**"
   ]
  },
  {
   "cell_type": "markdown",
   "id": "64b80451",
   "metadata": {},
   "source": [
    "   * Histograms (`df[\"col\"].hist()`)\n",
    "   * Boxplots (detect outliers)\n",
    "   * Correlation heatmaps (`df.corr()` + seaborn heatmap)"
   ]
  },
  {
   "cell_type": "markdown",
   "id": "182cd8bc",
   "metadata": {},
   "source": [
    "### 📊 Hands-on Mini Task (2–3 hours)"
   ]
  },
  {
   "cell_type": "markdown",
   "id": "f2d0e42f",
   "metadata": {},
   "source": [
    "* Download a **freely available dataset** (Kaggle Titanic, Iris, or any CSV from data.gov).\n",
    "* Do the following:\n",
    "\n",
    "  1. Print summary stats (mean, median, null counts).\n",
    "  2. Visualize distributions of 2–3 key variables.\n",
    "  3. Find outliers using boxplots.\n",
    "  4. Make at least **one insight** (e.g., “Survival rates are higher for females than males” in Titanic)."
   ]
  }
 ],
 "metadata": {
  "language_info": {
   "name": "python"
  }
 },
 "nbformat": 4,
 "nbformat_minor": 5
}
